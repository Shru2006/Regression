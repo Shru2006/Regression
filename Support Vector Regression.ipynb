{
 "cells": [
  {
   "cell_type": "markdown",
   "id": "9eee52fe",
   "metadata": {},
   "source": [
    "#Importing the libraries"
   ]
  },
  {
   "cell_type": "code",
   "execution_count": 19,
   "id": "7423a935",
   "metadata": {},
   "outputs": [],
   "source": [
    "import numpy as np\n",
    "import pandas as pd\n",
    "import matplotlib.pyplot as plt"
   ]
  },
  {
   "cell_type": "markdown",
   "id": "71fa8a28",
   "metadata": {},
   "source": [
    "#Importing the dataset"
   ]
  },
  {
   "cell_type": "code",
   "execution_count": 20,
   "id": "da7c7f84",
   "metadata": {},
   "outputs": [],
   "source": [
    "dataset = pd.read_csv('Position_Salaries.csv')\n",
    "x = dataset.iloc[:, 1:-1].values\n",
    "y = dataset.iloc[:, -1].values"
   ]
  },
  {
   "cell_type": "code",
   "execution_count": 21,
   "id": "8481dcbe",
   "metadata": {},
   "outputs": [
    {
     "name": "stdout",
     "output_type": "stream",
     "text": [
      "[[ 1]\n",
      " [ 2]\n",
      " [ 3]\n",
      " [ 4]\n",
      " [ 5]\n",
      " [ 6]\n",
      " [ 7]\n",
      " [ 8]\n",
      " [ 9]\n",
      " [10]]\n",
      "[  45000   50000   60000   80000  110000  150000  200000  300000  500000\n",
      " 1000000]\n"
     ]
    }
   ],
   "source": [
    "print(x)\n",
    "print(y)\n",
    "y = y.reshape(len(y), 1)"
   ]
  },
  {
   "cell_type": "markdown",
   "id": "0c31e1e9",
   "metadata": {},
   "source": [
    "#Feature Scaling"
   ]
  },
  {
   "cell_type": "code",
   "execution_count": 22,
   "id": "f878cd6c",
   "metadata": {},
   "outputs": [
    {
     "name": "stdout",
     "output_type": "stream",
     "text": [
      "[[  45000]\n",
      " [  50000]\n",
      " [  60000]\n",
      " [  80000]\n",
      " [ 110000]\n",
      " [ 150000]\n",
      " [ 200000]\n",
      " [ 300000]\n",
      " [ 500000]\n",
      " [1000000]]\n"
     ]
    }
   ],
   "source": [
    "print(y)\n",
    "#in SVR model there is not this explicit equation of the dependent variable with respect to the features and mostly there are not those coefficients multiplying each of the features and therefore not compensating with lower values for the features taking high values\n",
    "#train test split is not done in this scenario in order to leverage the maximum data in order to learn the correlations between the business levels and the salaries"
   ]
  },
  {
   "cell_type": "code",
   "execution_count": 23,
   "id": "35749e27",
   "metadata": {},
   "outputs": [
    {
     "name": "stdout",
     "output_type": "stream",
     "text": [
      "[[-1.5666989 ]\n",
      " [-1.21854359]\n",
      " [-0.87038828]\n",
      " [-0.52223297]\n",
      " [-0.17407766]\n",
      " [ 0.17407766]\n",
      " [ 0.52223297]\n",
      " [ 0.87038828]\n",
      " [ 1.21854359]\n",
      " [ 1.5666989 ]]\n",
      "[[-0.72004253]\n",
      " [-0.70243757]\n",
      " [-0.66722767]\n",
      " [-0.59680786]\n",
      " [-0.49117815]\n",
      " [-0.35033854]\n",
      " [-0.17428902]\n",
      " [ 0.17781001]\n",
      " [ 0.88200808]\n",
      " [ 2.64250325]]\n"
     ]
    }
   ],
   "source": [
    "from sklearn.preprocessing import StandardScaler\n",
    "sc_x = StandardScaler()\n",
    "sc_y = StandardScaler()\n",
    "#two diffferent StandardScaler() is required because the mean & standard deviation will be different for both x & y\n",
    "x = sc_x.fit_transform(x)\n",
    "y = sc_y.fit_transform(y)\n",
    "print(x)\n",
    "print(y)"
   ]
  },
  {
   "cell_type": "markdown",
   "id": "040681ae",
   "metadata": {},
   "source": [
    "#Training the SVR model on the whole dataset"
   ]
  },
  {
   "cell_type": "code",
   "execution_count": 24,
   "id": "a875523d",
   "metadata": {},
   "outputs": [
    {
     "name": "stderr",
     "output_type": "stream",
     "text": [
      "C:\\Users\\sspra\\Anaconda3\\lib\\site-packages\\sklearn\\utils\\validation.py:63: DataConversionWarning: A column-vector y was passed when a 1d array was expected. Please change the shape of y to (n_samples, ), for example using ravel().\n",
      "  return f(*args, **kwargs)\n"
     ]
    },
    {
     "data": {
      "text/plain": [
       "SVR()"
      ]
     },
     "execution_count": 24,
     "metadata": {},
     "output_type": "execute_result"
    }
   ],
   "source": [
    "from sklearn.svm import SVR\n",
    "regressor = SVR(kernel = 'rbf') #Gaussian Radial Basis Function (rbf)\n",
    "regressor.fit(x, y)"
   ]
  },
  {
   "cell_type": "markdown",
   "id": "5597b673",
   "metadata": {},
   "source": [
    "#Prediciting a new result"
   ]
  },
  {
   "cell_type": "code",
   "execution_count": 25,
   "id": "d2933c41",
   "metadata": {},
   "outputs": [
    {
     "data": {
      "text/plain": [
       "array([170370.0204065])"
      ]
     },
     "execution_count": 25,
     "metadata": {},
     "output_type": "execute_result"
    }
   ],
   "source": [
    "sc_y.inverse_transform(regressor.predict(sc_x.transform([[6.5]]))) #to transform it to the form similar to feature scaling x & y which helps to get correct output"
   ]
  },
  {
   "cell_type": "markdown",
   "id": "778e4949",
   "metadata": {},
   "source": [
    "#Visualising the SVR results"
   ]
  },
  {
   "cell_type": "code",
   "execution_count": 27,
   "id": "061cf177",
   "metadata": {},
   "outputs": [
    {
     "data": {
      "image/png": "[encoded data removed]",
      "text/plain": [
       "<Figure size 432x288 with 1 Axes>"
      ]
     },
     "metadata": {
      "needs_background": "light"
     },
     "output_type": "display_data"
    }
   ],
   "source": [
    "plt.scatter(sc_x.inverse_transform(x), sc_y.inverse_transform(y), color = 'red') #real salaries\n",
    "plt.plot(sc_x.inverse_transform(x), sc_y.inverse_transform(regressor.predict(x)), color = 'blue') #real salary & predicted salary\n",
    "#predicted value to be converted to the original format hence the inverse_transform; else it will return the prediction in the same scale as the one that was used in the training\n",
    "plt.title('Truth/Bluff (Support Vector Regression)')\n",
    "plt.xlabel('Position Level')\n",
    "plt.ylabel('Salary')\n",
    "plt.show()"
   ]
  },
  {
   "cell_type": "markdown",
   "id": "23701d0c",
   "metadata": {},
   "source": [
    "#Visualising the SVR results (for higher resolution & smoother curve)"
   ]
  },
  {
   "cell_type": "code",
   "execution_count": 28,
   "id": "6ba8c36b",
   "metadata": {},
   "outputs": [
    {
     "data": {
      "image/png": "[encoded data removed]",
      "text/plain": [
       "<Figure size 432x288 with 1 Axes>"
      ]
     },
     "metadata": {
      "needs_background": "light"
     },
     "output_type": "display_data"
    }
   ],
   "source": [
    "x_grid = np.arange(min(sc_x.inverse_transform(x)), max(sc_x.inverse_transform(x)), 0.1) #start & end with 0.1 interval\n",
    "x_grid = x_grid.reshape((len(x_grid), 1))\n",
    "plt.scatter(sc_x.inverse_transform(x), sc_y.inverse_transform(y), color = 'red') #real salaries\n",
    "plt.plot(x_grid, sc_y.inverse_transform(regressor.predict(sc_x.transform(x_grid))), color = 'blue') #real salary & predicted salary\n",
    "plt.title('Truth/Bluff (Support Vector Regression)')\n",
    "plt.xlabel('Position Level')\n",
    "plt.ylabel('Salary')\n",
    "plt.show()"
   ]
  },
  {
   "cell_type": "code",
   "execution_count": null,
   "id": "125d62ca",
   "metadata": {},
   "outputs": [],
   "source": []
  }
 ],
 "metadata": {
  "kernelspec": {
   "display_name": "Python 3 (ipykernel)",
   "language": "python",
   "name": "python3"
  },
  "language_info": {
   "codemirror_mode": {
    "name": "ipython",
    "version": 3
   },
   "file_extension": ".py",
   "mimetype": "text/x-python",
   "name": "python",
   "nbconvert_exporter": "python",
   "pygments_lexer": "ipython3",
   "version": "3.9.7"
  }
 },
 "nbformat": 4,
 "nbformat_minor": 5
}
